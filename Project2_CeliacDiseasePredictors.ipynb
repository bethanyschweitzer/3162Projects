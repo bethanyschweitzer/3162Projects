{
 "cells": [
  {
   "cell_type": "code",
   "execution_count": 18,
   "id": "b1b70f29",
   "metadata": {},
   "outputs": [],
   "source": [
    "import pandas as pd\n",
    "celiac_df=pd.read_csv(\"/Users/admin/Downloads/celiac_disease_lab_data.csv\")\n",
    "import seaborn as sns\n",
    "sns.set_theme(style=\"whitegrid\")\n",
    "import matplotlib.pyplot as plt"
   ]
  },
  {
   "cell_type": "code",
   "execution_count": 19,
   "id": "a7e66e4d",
   "metadata": {},
   "outputs": [
    {
     "data": {
      "text/html": [
       "<div>\n",
       "<style scoped>\n",
       "    .dataframe tbody tr th:only-of-type {\n",
       "        vertical-align: middle;\n",
       "    }\n",
       "\n",
       "    .dataframe tbody tr th {\n",
       "        vertical-align: top;\n",
       "    }\n",
       "\n",
       "    .dataframe thead th {\n",
       "        text-align: right;\n",
       "    }\n",
       "</style>\n",
       "<table border=\"1\" class=\"dataframe\">\n",
       "  <thead>\n",
       "    <tr style=\"text-align: right;\">\n",
       "      <th></th>\n",
       "      <th>Age</th>\n",
       "      <th>Gender</th>\n",
       "      <th>Diabetes</th>\n",
       "      <th>Diabetes Type</th>\n",
       "      <th>Diarrhoea</th>\n",
       "      <th>Abdominal</th>\n",
       "      <th>Short_Stature</th>\n",
       "      <th>Sticky_Stool</th>\n",
       "      <th>Weight_loss</th>\n",
       "      <th>IgA</th>\n",
       "      <th>IgG</th>\n",
       "      <th>IgM</th>\n",
       "      <th>Marsh</th>\n",
       "      <th>cd_type</th>\n",
       "      <th>Disease_Diagnose</th>\n",
       "    </tr>\n",
       "  </thead>\n",
       "  <tbody>\n",
       "    <tr>\n",
       "      <th>0</th>\n",
       "      <td>10</td>\n",
       "      <td>Male</td>\n",
       "      <td>Yes</td>\n",
       "      <td>Type 1</td>\n",
       "      <td>inflammatory</td>\n",
       "      <td>yes</td>\n",
       "      <td>PSS</td>\n",
       "      <td>no</td>\n",
       "      <td>no</td>\n",
       "      <td>1.30</td>\n",
       "      <td>10.0</td>\n",
       "      <td>1.00</td>\n",
       "      <td>marsh type 0</td>\n",
       "      <td>potential</td>\n",
       "      <td>yes</td>\n",
       "    </tr>\n",
       "    <tr>\n",
       "      <th>1</th>\n",
       "      <td>9</td>\n",
       "      <td>Male</td>\n",
       "      <td>Yes</td>\n",
       "      <td>Type 1</td>\n",
       "      <td>fatty</td>\n",
       "      <td>yes</td>\n",
       "      <td>PSS</td>\n",
       "      <td>no</td>\n",
       "      <td>no</td>\n",
       "      <td>1.50</td>\n",
       "      <td>12.5</td>\n",
       "      <td>1.30</td>\n",
       "      <td>marsh type 3a</td>\n",
       "      <td>atypical</td>\n",
       "      <td>yes</td>\n",
       "    </tr>\n",
       "    <tr>\n",
       "      <th>2</th>\n",
       "      <td>8</td>\n",
       "      <td>Female</td>\n",
       "      <td>Yes</td>\n",
       "      <td>Type 1</td>\n",
       "      <td>watery</td>\n",
       "      <td>yes</td>\n",
       "      <td>Variant</td>\n",
       "      <td>yes</td>\n",
       "      <td>yes</td>\n",
       "      <td>0.40</td>\n",
       "      <td>8.0</td>\n",
       "      <td>0.50</td>\n",
       "      <td>marsh type 1</td>\n",
       "      <td>latent</td>\n",
       "      <td>yes</td>\n",
       "    </tr>\n",
       "    <tr>\n",
       "      <th>3</th>\n",
       "      <td>10</td>\n",
       "      <td>Male</td>\n",
       "      <td>Yes</td>\n",
       "      <td>Type 1</td>\n",
       "      <td>watery</td>\n",
       "      <td>yes</td>\n",
       "      <td>PSS</td>\n",
       "      <td>no</td>\n",
       "      <td>no</td>\n",
       "      <td>0.98</td>\n",
       "      <td>9.0</td>\n",
       "      <td>0.66</td>\n",
       "      <td>marsh type 3a</td>\n",
       "      <td>silent</td>\n",
       "      <td>yes</td>\n",
       "    </tr>\n",
       "    <tr>\n",
       "      <th>4</th>\n",
       "      <td>9</td>\n",
       "      <td>Male</td>\n",
       "      <td>Yes</td>\n",
       "      <td>Type 1</td>\n",
       "      <td>fatty</td>\n",
       "      <td>yes</td>\n",
       "      <td>PSS</td>\n",
       "      <td>no</td>\n",
       "      <td>no</td>\n",
       "      <td>1.00</td>\n",
       "      <td>10.5</td>\n",
       "      <td>1.10</td>\n",
       "      <td>marsh type 1</td>\n",
       "      <td>latent</td>\n",
       "      <td>yes</td>\n",
       "    </tr>\n",
       "  </tbody>\n",
       "</table>\n",
       "</div>"
      ],
      "text/plain": [
       "   Age  Gender Diabetes Diabetes Type     Diarrhoea Abdominal Short_Stature  \\\n",
       "0   10    Male      Yes        Type 1  inflammatory       yes           PSS   \n",
       "1    9    Male      Yes        Type 1        fatty        yes           PSS   \n",
       "2    8  Female      Yes        Type 1        watery       yes      Variant    \n",
       "3   10    Male      Yes        Type 1        watery       yes           PSS   \n",
       "4    9    Male      Yes        Type 1        fatty        yes           PSS   \n",
       "\n",
       "  Sticky_Stool Weight_loss   IgA   IgG   IgM          Marsh    cd_type  \\\n",
       "0           no          no  1.30  10.0  1.00   marsh type 0  potential   \n",
       "1           no          no  1.50  12.5  1.30  marsh type 3a   atypical   \n",
       "2          yes         yes  0.40   8.0  0.50   marsh type 1     latent   \n",
       "3           no          no  0.98   9.0  0.66  marsh type 3a     silent   \n",
       "4           no          no  1.00  10.5  1.10   marsh type 1     latent   \n",
       "\n",
       "  Disease_Diagnose  \n",
       "0              yes  \n",
       "1              yes  \n",
       "2              yes  \n",
       "3              yes  \n",
       "4              yes  "
      ]
     },
     "execution_count": 19,
     "metadata": {},
     "output_type": "execute_result"
    }
   ],
   "source": [
    "celiac_df.head()"
   ]
  },
  {
   "cell_type": "code",
   "execution_count": 20,
   "id": "e4016063",
   "metadata": {},
   "outputs": [
    {
     "data": {
      "text/html": [
       "<div>\n",
       "<style scoped>\n",
       "    .dataframe tbody tr th:only-of-type {\n",
       "        vertical-align: middle;\n",
       "    }\n",
       "\n",
       "    .dataframe tbody tr th {\n",
       "        vertical-align: top;\n",
       "    }\n",
       "\n",
       "    .dataframe thead th {\n",
       "        text-align: right;\n",
       "    }\n",
       "</style>\n",
       "<table border=\"1\" class=\"dataframe\">\n",
       "  <thead>\n",
       "    <tr style=\"text-align: right;\">\n",
       "      <th></th>\n",
       "      <th>Age</th>\n",
       "      <th>IgA</th>\n",
       "      <th>IgG</th>\n",
       "      <th>IgM</th>\n",
       "    </tr>\n",
       "  </thead>\n",
       "  <tbody>\n",
       "    <tr>\n",
       "      <th>count</th>\n",
       "      <td>2206.000000</td>\n",
       "      <td>2206.000000</td>\n",
       "      <td>2206.000000</td>\n",
       "      <td>2206.000000</td>\n",
       "    </tr>\n",
       "    <tr>\n",
       "      <th>mean</th>\n",
       "      <td>12.768812</td>\n",
       "      <td>1.427384</td>\n",
       "      <td>10.052901</td>\n",
       "      <td>1.236963</td>\n",
       "    </tr>\n",
       "    <tr>\n",
       "      <th>std</th>\n",
       "      <td>7.434250</td>\n",
       "      <td>1.110042</td>\n",
       "      <td>2.047683</td>\n",
       "      <td>0.447216</td>\n",
       "    </tr>\n",
       "    <tr>\n",
       "      <th>min</th>\n",
       "      <td>1.000000</td>\n",
       "      <td>0.340000</td>\n",
       "      <td>5.000000</td>\n",
       "      <td>0.500000</td>\n",
       "    </tr>\n",
       "    <tr>\n",
       "      <th>25%</th>\n",
       "      <td>8.000000</td>\n",
       "      <td>1.000000</td>\n",
       "      <td>8.700000</td>\n",
       "      <td>0.980000</td>\n",
       "    </tr>\n",
       "    <tr>\n",
       "      <th>50%</th>\n",
       "      <td>10.000000</td>\n",
       "      <td>1.100000</td>\n",
       "      <td>10.000000</td>\n",
       "      <td>1.100000</td>\n",
       "    </tr>\n",
       "    <tr>\n",
       "      <th>75%</th>\n",
       "      <td>15.000000</td>\n",
       "      <td>1.800000</td>\n",
       "      <td>12.000000</td>\n",
       "      <td>1.500000</td>\n",
       "    </tr>\n",
       "    <tr>\n",
       "      <th>max</th>\n",
       "      <td>35.000000</td>\n",
       "      <td>9.000000</td>\n",
       "      <td>15.300000</td>\n",
       "      <td>2.700000</td>\n",
       "    </tr>\n",
       "  </tbody>\n",
       "</table>\n",
       "</div>"
      ],
      "text/plain": [
       "               Age          IgA          IgG          IgM\n",
       "count  2206.000000  2206.000000  2206.000000  2206.000000\n",
       "mean     12.768812     1.427384    10.052901     1.236963\n",
       "std       7.434250     1.110042     2.047683     0.447216\n",
       "min       1.000000     0.340000     5.000000     0.500000\n",
       "25%       8.000000     1.000000     8.700000     0.980000\n",
       "50%      10.000000     1.100000    10.000000     1.100000\n",
       "75%      15.000000     1.800000    12.000000     1.500000\n",
       "max      35.000000     9.000000    15.300000     2.700000"
      ]
     },
     "execution_count": 20,
     "metadata": {},
     "output_type": "execute_result"
    }
   ],
   "source": [
    "celiac_df.describe()"
   ]
  },
  {
   "cell_type": "code",
   "execution_count": 21,
   "id": "05e6a71e",
   "metadata": {},
   "outputs": [
    {
     "name": "stdout",
     "output_type": "stream",
     "text": [
      "Statistics for 'yes' diagnosis:\n",
      "               Age          IgA          IgG          IgM\n",
      "count  1843.000000  1843.000000  1843.000000  1843.000000\n",
      "mean     13.234943     1.305708    10.157027     1.231812\n",
      "std       7.856934     0.546986     1.982584     0.467183\n",
      "min       1.000000     0.340000     5.000000     0.500000\n",
      "25%       8.000000     1.000000     8.700000     0.910000\n",
      "50%      10.000000     1.100000    10.000000     1.100000\n",
      "75%      16.000000     1.800000    12.000000     1.500000\n",
      "max      35.000000     2.600000    15.300000     2.700000\n",
      "\n",
      "Statistics for 'no' diagnosis:\n",
      "              Age         IgA         IgG         IgM\n",
      "count  363.000000  363.000000  363.000000  363.000000\n",
      "mean    10.402204    2.045152    9.524242    1.263113\n",
      "std      3.976199    2.350532    2.281263    0.326851\n",
      "min      3.000000    0.340000    5.000000    0.600000\n",
      "25%      8.000000    1.000000    8.000000    1.000000\n",
      "50%      9.000000    1.300000    9.400000    1.100000\n",
      "75%     12.000000    1.900000   12.000000    1.600000\n",
      "max     32.000000    9.000000   13.100000    2.100000\n"
     ]
    }
   ],
   "source": [
    "# Filter the DataFrame for \"yes\" diagnosis\n",
    "yes_diagnosis_df = celiac_df[celiac_df['Disease_Diagnose'] == 'yes']\n",
    "\n",
    "# Generate descriptive statistics for \"yes\" diagnosis\n",
    "yes_diagnosis_stats = yes_diagnosis_df.describe()\n",
    "\n",
    "# Filter the DataFrame for \"no\" diagnosis\n",
    "no_diagnosis_df = celiac_df[celiac_df['Disease_Diagnose'] == 'no']\n",
    "\n",
    "# Generate descriptive statistics for \"no\" diagnosis\n",
    "no_diagnosis_stats = no_diagnosis_df.describe()\n",
    "\n",
    "# Print the statistics\n",
    "print(\"Statistics for 'yes' diagnosis:\")\n",
    "print(yes_diagnosis_stats)\n",
    "\n",
    "print(\"\\nStatistics for 'no' diagnosis:\")\n",
    "print(no_diagnosis_stats)"
   ]
  },
  {
   "cell_type": "code",
   "execution_count": 22,
   "id": "6e6a7ce2",
   "metadata": {},
   "outputs": [
    {
     "name": "stdout",
     "output_type": "stream",
     "text": [
      "  Diabetes Diabetes Type     Diarrhoea Abdominal Short_Stature Sticky_Stool  \\\n",
      "0      Yes        Type 1  inflammatory       yes           PSS           no   \n",
      "1      Yes        Type 1        fatty        yes           PSS           no   \n",
      "2      Yes        Type 1        watery       yes      Variant           yes   \n",
      "3      Yes        Type 1        watery       yes           PSS           no   \n",
      "4      Yes        Type 1        fatty        yes           PSS           no   \n",
      "\n",
      "    IgA Disease_Diagnose  \n",
      "0  1.30              yes  \n",
      "1  1.50              yes  \n",
      "2  0.40              yes  \n",
      "3  0.98              yes  \n",
      "4  1.00              yes  \n"
     ]
    }
   ],
   "source": [
    "# Drop the specified columns\n",
    "columns_to_drop = ['Weight_loss', 'IgM', 'IgG', 'Gender', 'Age', 'Marsh', 'cd_type']\n",
    "filtered_df = celiac_df.drop(columns_to_drop, axis=1)\n",
    "\n",
    "# Display the resulting DataFrame\n",
    "print(filtered_df.head())"
   ]
  },
  {
   "cell_type": "code",
   "execution_count": 23,
   "id": "a737a087",
   "metadata": {},
   "outputs": [
    {
     "data": {
      "text/html": [
       "<div>\n",
       "<style scoped>\n",
       "    .dataframe tbody tr th:only-of-type {\n",
       "        vertical-align: middle;\n",
       "    }\n",
       "\n",
       "    .dataframe tbody tr th {\n",
       "        vertical-align: top;\n",
       "    }\n",
       "\n",
       "    .dataframe thead th {\n",
       "        text-align: right;\n",
       "    }\n",
       "</style>\n",
       "<table border=\"1\" class=\"dataframe\">\n",
       "  <thead>\n",
       "    <tr style=\"text-align: right;\">\n",
       "      <th></th>\n",
       "      <th>IgA</th>\n",
       "    </tr>\n",
       "  </thead>\n",
       "  <tbody>\n",
       "    <tr>\n",
       "      <th>count</th>\n",
       "      <td>2206.000000</td>\n",
       "    </tr>\n",
       "    <tr>\n",
       "      <th>mean</th>\n",
       "      <td>1.427384</td>\n",
       "    </tr>\n",
       "    <tr>\n",
       "      <th>std</th>\n",
       "      <td>1.110042</td>\n",
       "    </tr>\n",
       "    <tr>\n",
       "      <th>min</th>\n",
       "      <td>0.340000</td>\n",
       "    </tr>\n",
       "    <tr>\n",
       "      <th>25%</th>\n",
       "      <td>1.000000</td>\n",
       "    </tr>\n",
       "    <tr>\n",
       "      <th>50%</th>\n",
       "      <td>1.100000</td>\n",
       "    </tr>\n",
       "    <tr>\n",
       "      <th>75%</th>\n",
       "      <td>1.800000</td>\n",
       "    </tr>\n",
       "    <tr>\n",
       "      <th>max</th>\n",
       "      <td>9.000000</td>\n",
       "    </tr>\n",
       "  </tbody>\n",
       "</table>\n",
       "</div>"
      ],
      "text/plain": [
       "               IgA\n",
       "count  2206.000000\n",
       "mean      1.427384\n",
       "std       1.110042\n",
       "min       0.340000\n",
       "25%       1.000000\n",
       "50%       1.100000\n",
       "75%       1.800000\n",
       "max       9.000000"
      ]
     },
     "execution_count": 23,
     "metadata": {},
     "output_type": "execute_result"
    }
   ],
   "source": [
    "filtered_df.describe()"
   ]
  },
  {
   "cell_type": "code",
   "execution_count": 24,
   "id": "4e1ab708",
   "metadata": {},
   "outputs": [
    {
     "name": "stdout",
     "output_type": "stream",
     "text": [
      "Accuracy: 0.9773755656108597\n"
     ]
    }
   ],
   "source": [
    "from sklearn.model_selection import train_test_split\n",
    "from sklearn.tree import DecisionTreeClassifier\n",
    "from sklearn.ensemble import BaggingClassifier\n",
    "from sklearn.metrics import accuracy_score\n",
    "from sklearn.preprocessing import LabelEncoder\n",
    "\n",
    "# Separate the target variable from the features\n",
    "X = filtered_df.drop('Disease_Diagnose', axis=1)\n",
    "y = filtered_df['Disease_Diagnose']\n",
    "\n",
    "# One-hot encode the categorical features\n",
    "X_encoded = pd.get_dummies(X)\n",
    "\n",
    "# Encode the target variable ('Disease_Diagnose') using LabelEncoder\n",
    "label_encoder = LabelEncoder()\n",
    "y_encoded = label_encoder.fit_transform(y)\n",
    "\n",
    "# Train-test split\n",
    "X_train, X_test, y_train, y_test = train_test_split(X_encoded, y_encoded, test_size=0.2, random_state=42)\n",
    "\n",
    "# Train a Decision Tree model using Bagging for aggregation\n",
    "base_model = DecisionTreeClassifier(random_state=42)\n",
    "bagging_model = BaggingClassifier(base_model, n_estimators=10, random_state=42)\n",
    "bagging_model.fit(X_train, y_train)\n",
    "\n",
    "# Evaluate the model's performance on the testing set\n",
    "y_pred = bagging_model.predict(X_test)\n",
    "accuracy = accuracy_score(y_test, y_pred)\n",
    "print(\"Accuracy:\", accuracy)"
   ]
  },
  {
   "cell_type": "code",
   "execution_count": 29,
   "id": "2161e323",
   "metadata": {},
   "outputs": [
    {
     "name": "stdout",
     "output_type": "stream",
     "text": [
      "Confusion Matrix:\n",
      "[[ 60   9]\n",
      " [  1 372]]\n",
      "{}\n",
      "F1 Score: 0.986737400530504\n"
     ]
    }
   ],
   "source": [
    "from sklearn.metrics import confusion_matrix\n",
    "from sklearn.metrics import f1_score\n",
    "\n",
    "# Assuming y_true contains the true labels and y_pred contains the predicted labels\n",
    "# Calculate the confusion matrix\n",
    "cm = confusion_matrix(y_test, y_pred) # y_test will contain the true labels (actual values) of the target variable, and y_pred will contain the predicted labels (predicted values) of the target variable\n",
    "\n",
    "# Display the confusion matrix\n",
    "print(\"Confusion Matrix:\")\n",
    "print(cm)\n",
    "\n",
    "#print(label_encoder.get_params())\n",
    "\n",
    "# Calculate F1 score\n",
    "f1 = f1_score(y_test, y_pred, labels=[0, 1], average='binary')\n",
    "print(\"F1 Score:\", f1)"
   ]
  },
  {
   "cell_type": "code",
   "execution_count": 30,
   "id": "0fef5ac7",
   "metadata": {},
   "outputs": [
    {
     "name": "stdout",
     "output_type": "stream",
     "text": [
      "Class distribution before undersampling: Counter({'yes': 1843, 'no': 363})\n",
      "Class distribution after undersampling: Counter({'yes': 726, 'no': 363})\n"
     ]
    }
   ],
   "source": [
    "from collections import Counter\n",
    "from imblearn.under_sampling import RandomUnderSampler\n",
    "\n",
    "# Summarize class distribution before undersampling\n",
    "print(\"Class distribution before undersampling:\", Counter(filtered_df['Disease_Diagnose']))\n",
    "\n",
    "# Define the undersample strategy\n",
    "undersample = RandomUnderSampler(sampling_strategy=0.5, random_state=42)\n",
    "\n",
    "# Separate features and target variable\n",
    "X = filtered_df.drop('Disease_Diagnose', axis=1)  # Features\n",
    "y = filtered_df['Disease_Diagnose']  # Target variable\n",
    "\n",
    "# Perform random undersampling\n",
    "X_under, y_under = undersample.fit_resample(X, y)\n",
    "\n",
    "# Combine the undersampled features and target variable into a new DataFrame\n",
    "filtered_undersampled1_df = pd.concat([pd.DataFrame(X_under, columns=X.columns), pd.Series(y_under, name='Disease_Diagnose')], axis=1)\n",
    "\n",
    "# Summarize class distribution after undersampling\n",
    "print(\"Class distribution after undersampling:\", Counter(filtered_undersampled1_df['Disease_Diagnose']))"
   ]
  },
  {
   "cell_type": "code",
   "execution_count": 31,
   "id": "fa614aa5",
   "metadata": {
    "scrolled": true
   },
   "outputs": [
    {
     "data": {
      "text/html": [
       "<div>\n",
       "<style scoped>\n",
       "    .dataframe tbody tr th:only-of-type {\n",
       "        vertical-align: middle;\n",
       "    }\n",
       "\n",
       "    .dataframe tbody tr th {\n",
       "        vertical-align: top;\n",
       "    }\n",
       "\n",
       "    .dataframe thead th {\n",
       "        text-align: right;\n",
       "    }\n",
       "</style>\n",
       "<table border=\"1\" class=\"dataframe\">\n",
       "  <thead>\n",
       "    <tr style=\"text-align: right;\">\n",
       "      <th></th>\n",
       "      <th>IgA</th>\n",
       "    </tr>\n",
       "  </thead>\n",
       "  <tbody>\n",
       "    <tr>\n",
       "      <th>count</th>\n",
       "      <td>1089.000000</td>\n",
       "    </tr>\n",
       "    <tr>\n",
       "      <th>mean</th>\n",
       "      <td>1.562700</td>\n",
       "    </tr>\n",
       "    <tr>\n",
       "      <th>std</th>\n",
       "      <td>1.469439</td>\n",
       "    </tr>\n",
       "    <tr>\n",
       "      <th>min</th>\n",
       "      <td>0.340000</td>\n",
       "    </tr>\n",
       "    <tr>\n",
       "      <th>25%</th>\n",
       "      <td>1.000000</td>\n",
       "    </tr>\n",
       "    <tr>\n",
       "      <th>50%</th>\n",
       "      <td>1.200000</td>\n",
       "    </tr>\n",
       "    <tr>\n",
       "      <th>75%</th>\n",
       "      <td>1.900000</td>\n",
       "    </tr>\n",
       "    <tr>\n",
       "      <th>max</th>\n",
       "      <td>9.000000</td>\n",
       "    </tr>\n",
       "  </tbody>\n",
       "</table>\n",
       "</div>"
      ],
      "text/plain": [
       "               IgA\n",
       "count  1089.000000\n",
       "mean      1.562700\n",
       "std       1.469439\n",
       "min       0.340000\n",
       "25%       1.000000\n",
       "50%       1.200000\n",
       "75%       1.900000\n",
       "max       9.000000"
      ]
     },
     "execution_count": 31,
     "metadata": {},
     "output_type": "execute_result"
    }
   ],
   "source": [
    "filtered_undersampled1_df.describe()"
   ]
  },
  {
   "cell_type": "code",
   "execution_count": 32,
   "id": "1c9e62ab",
   "metadata": {},
   "outputs": [
    {
     "name": "stdout",
     "output_type": "stream",
     "text": [
      "Accuracy: 0.9036697247706422\n"
     ]
    }
   ],
   "source": [
    "# Separate the target variable from the features\n",
    "X = filtered_undersampled1_df.drop('Disease_Diagnose', axis=1)\n",
    "y = filtered_undersampled1_df['Disease_Diagnose']\n",
    "\n",
    "# One-hot encode the categorical features\n",
    "X_encoded = pd.get_dummies(X)\n",
    "\n",
    "# Encode the target variable ('Disease_Diagnose') using LabelEncoder\n",
    "label_encoder = LabelEncoder()\n",
    "y_encoded = label_encoder.fit_transform(y)\n",
    "\n",
    "# Train-test split\n",
    "X_train, X_test, y_train, y_test = train_test_split(X_encoded, y_encoded, test_size=0.2, random_state=42)\n",
    "\n",
    "# Train a Decision Tree model using Bagging for aggregation\n",
    "base_model = DecisionTreeClassifier(random_state=42)\n",
    "bagging_model = BaggingClassifier(base_model, n_estimators=10, random_state=42)\n",
    "bagging_model.fit(X_train, y_train)\n",
    "\n",
    "# Evaluate the model's performance on the testing set\n",
    "y_pred = bagging_model.predict(X_test)\n",
    "accuracy = accuracy_score(y_test, y_pred)\n",
    "print(\"Accuracy:\", accuracy)"
   ]
  },
  {
   "cell_type": "code",
   "execution_count": 33,
   "id": "0a02f74c",
   "metadata": {},
   "outputs": [
    {
     "name": "stdout",
     "output_type": "stream",
     "text": [
      "Confusion Matrix:\n",
      "[[ 63  13]\n",
      " [  8 134]]\n",
      "F1 Score: 0.9273356401384083\n"
     ]
    }
   ],
   "source": [
    "# y_true contains the true labels and y_pred contains the predicted labels\n",
    "# Calculate the confusion matrix\n",
    "cm = confusion_matrix(y_test, y_pred) # y_test will contain the true labels (actual values) of the target variable, and y_pred will contain the predicted labels (predicted values) of the target variable\n",
    "\n",
    "# Display the confusion matrix\n",
    "print(\"Confusion Matrix:\")\n",
    "print(cm)\n",
    "\n",
    "f1 = f1_score(y_test, y_pred, labels=[0, 1], average='binary')\n",
    "print(\"F1 Score:\", f1)"
   ]
  },
  {
   "cell_type": "code",
   "execution_count": 34,
   "id": "df7cfea0",
   "metadata": {},
   "outputs": [
    {
     "name": "stdout",
     "output_type": "stream",
     "text": [
      "Class distribution after undersampling: Counter({'yes': 605, 'no': 363})\n"
     ]
    }
   ],
   "source": [
    "# Define the undersample strategy\n",
    "undersample = RandomUnderSampler(sampling_strategy=0.6, random_state=42)\n",
    "\n",
    "# Separate features and target variable\n",
    "X = filtered_df.drop('Disease_Diagnose', axis=1)  # Features\n",
    "y = filtered_df['Disease_Diagnose']  # Target variable\n",
    "\n",
    "# Perform random undersampling\n",
    "X_under, y_under = undersample.fit_resample(X, y)\n",
    "\n",
    "# Combine the undersampled features and target variable into a new DataFrame\n",
    "filtered_undersampled2_df = pd.concat([pd.DataFrame(X_under, columns=X.columns), pd.Series(y_under, name='Disease_Diagnose')], axis=1)\n",
    "\n",
    "# Summarize class distribution after undersampling\n",
    "print(\"Class distribution after undersampling:\", Counter(filtered_undersampled2_df['Disease_Diagnose']))"
   ]
  },
  {
   "cell_type": "code",
   "execution_count": 35,
   "id": "8a0b2c2c",
   "metadata": {},
   "outputs": [
    {
     "name": "stdout",
     "output_type": "stream",
     "text": [
      "Accuracy: 0.9123711340206185\n"
     ]
    }
   ],
   "source": [
    "# Separate the target variable from the features\n",
    "X = filtered_undersampled2_df.drop('Disease_Diagnose', axis=1)\n",
    "y = filtered_undersampled2_df['Disease_Diagnose']\n",
    "\n",
    "# One-hot encode the categorical features\n",
    "X_encoded = pd.get_dummies(X)\n",
    "\n",
    "# Encode the target variable ('Disease_Diagnose') using LabelEncoder\n",
    "label_encoder = LabelEncoder()\n",
    "y_encoded = label_encoder.fit_transform(y)\n",
    "\n",
    "# Train-test split, of the 605:363 it could split differently compared to previous splits so how many it's testing/training on for each model will be different- search for train/test split that is the same \n",
    "X_train, X_test, y_train, y_test = train_test_split(X_encoded, y_encoded, test_size=0.2, random_state=42)\n",
    "\n",
    "# Train a Decision Tree model using Bagging for aggregation\n",
    "base_model = DecisionTreeClassifier(random_state=42)\n",
    "bagging_model = BaggingClassifier(base_model, n_estimators=10, random_state=42)\n",
    "bagging_model.fit(X_train, y_train)\n",
    "\n",
    "# Evaluate the model's performance on the testing set\n",
    "y_pred = bagging_model.predict(X_test)\n",
    "accuracy = accuracy_score(y_test, y_pred)\n",
    "print(\"Accuracy:\", accuracy)"
   ]
  },
  {
   "cell_type": "code",
   "execution_count": 36,
   "id": "a59d37a4",
   "metadata": {},
   "outputs": [
    {
     "name": "stdout",
     "output_type": "stream",
     "text": [
      "Confusion Matrix:\n",
      "[[ 60  15]\n",
      " [  2 117]]\n",
      "F1 Score: 0.9322709163346613\n"
     ]
    }
   ],
   "source": [
    "# Assume y_true contains the true labels and y_pred contains the predicted labels\n",
    "# Calculate the confusion matrix\n",
    "cm = confusion_matrix(y_test, y_pred) # y_test will contain the true labels (actual values) of the target variable, and y_pred will contain the predicted labels (predicted values) of the target variable\n",
    "\n",
    "# Display the confusion matrix\n",
    "print(\"Confusion Matrix:\")\n",
    "print(cm)\n",
    "\n",
    "f1 = f1_score(y_test, y_pred, labels=[0, 1], average='binary')\n",
    "print(\"F1 Score:\", f1)"
   ]
  },
  {
   "cell_type": "code",
   "execution_count": 37,
   "id": "9a5e304d",
   "metadata": {},
   "outputs": [
    {
     "name": "stdout",
     "output_type": "stream",
     "text": [
      "Class distribution after undersampling: Counter({'yes': 907, 'no': 363})\n"
     ]
    }
   ],
   "source": [
    "# Define the undersample strategy\n",
    "undersample = RandomUnderSampler(sampling_strategy=0.4, random_state=42)\n",
    "\n",
    "# Separate features and target variable\n",
    "X = filtered_df.drop('Disease_Diagnose', axis=1)  # Features\n",
    "y = filtered_df['Disease_Diagnose']  # Target variable\n",
    "\n",
    "# Perform random undersampling\n",
    "X_under, y_under = undersample.fit_resample(X, y)\n",
    "\n",
    "# Combine the undersampled features and target variable into a new DataFrame\n",
    "filtered_undersampled3_df = pd.concat([pd.DataFrame(X_under, columns=X.columns), pd.Series(y_under, name='Disease_Diagnose')], axis=1)\n",
    "\n",
    "# Summarize class distribution after undersampling\n",
    "print(\"Class distribution after undersampling:\", Counter(filtered_undersampled3_df['Disease_Diagnose']))"
   ]
  },
  {
   "cell_type": "code",
   "execution_count": 38,
   "id": "67eb0a53",
   "metadata": {},
   "outputs": [
    {
     "name": "stdout",
     "output_type": "stream",
     "text": [
      "Accuracy: 0.937007874015748\n"
     ]
    }
   ],
   "source": [
    "# Separate the target variable from the features\n",
    "X = filtered_undersampled3_df.drop('Disease_Diagnose', axis=1)\n",
    "y = filtered_undersampled3_df['Disease_Diagnose']\n",
    "\n",
    "# One-hot encode the categorical features\n",
    "X_encoded = pd.get_dummies(X)\n",
    "\n",
    "# Encode the target variable ('Disease_Diagnose') using LabelEncoder\n",
    "label_encoder = LabelEncoder()\n",
    "y_encoded = label_encoder.fit_transform(y)\n",
    "\n",
    "# Train-test split\n",
    "X_train, X_test, y_train, y_test = train_test_split(X_encoded, y_encoded, test_size=0.2, random_state=42)\n",
    "\n",
    "# Train a Decision Tree model using Bagging for aggregation\n",
    "base_model = DecisionTreeClassifier(random_state=42)\n",
    "bagging_model = BaggingClassifier(base_model, n_estimators=10, random_state=42)\n",
    "bagging_model.fit(X_train, y_train)\n",
    "\n",
    "# Evaluate the model's performance on the testing set\n",
    "y_pred = bagging_model.predict(X_test)\n",
    "accuracy = accuracy_score(y_test, y_pred)\n",
    "print(\"Accuracy:\", accuracy)"
   ]
  },
  {
   "cell_type": "code",
   "execution_count": 39,
   "id": "c0b3418d",
   "metadata": {},
   "outputs": [
    {
     "name": "stdout",
     "output_type": "stream",
     "text": [
      "Confusion Matrix:\n",
      "[[ 67  12]\n",
      " [  4 171]]\n",
      "F1 Score: 0.9553072625698324\n"
     ]
    }
   ],
   "source": [
    "# y_true contains the true labels and y_pred contains the predicted labels\n",
    "# Calculate the confusion matrix\n",
    "cm = confusion_matrix(y_test, y_pred) # y_test will contain the true labels (actual values) of the target variable, and y_pred will contain the predicted labels (predicted values) of the target variable\n",
    "\n",
    "# Display the confusion matrix\n",
    "print(\"Confusion Matrix:\")\n",
    "print(cm)\n",
    "\n",
    "f1 = f1_score(y_test, y_pred, labels=[0, 1], average='binary')\n",
    "print(\"F1 Score:\", f1)"
   ]
  },
  {
   "cell_type": "code",
   "execution_count": 62,
   "id": "65889256",
   "metadata": {},
   "outputs": [
    {
     "data": {
      "text/plain": [
       "array([0])"
      ]
     },
     "execution_count": 62,
     "metadata": {},
     "output_type": "execute_result"
    }
   ],
   "source": [
    "y_encoded[0:1]"
   ]
  },
  {
   "cell_type": "code",
   "execution_count": 63,
   "id": "6aeeb7f1",
   "metadata": {},
   "outputs": [
    {
     "data": {
      "text/plain": [
       "11    no\n",
       "Name: Disease_Diagnose, dtype: object"
      ]
     },
     "execution_count": 63,
     "metadata": {},
     "output_type": "execute_result"
    }
   ],
   "source": [
    "y[0:1]"
   ]
  }
 ],
 "metadata": {
  "kernelspec": {
   "display_name": "Python 3 (ipykernel)",
   "language": "python",
   "name": "python3"
  },
  "language_info": {
   "codemirror_mode": {
    "name": "ipython",
    "version": 3
   },
   "file_extension": ".py",
   "mimetype": "text/x-python",
   "name": "python",
   "nbconvert_exporter": "python",
   "pygments_lexer": "ipython3",
   "version": "3.11.4"
  }
 },
 "nbformat": 4,
 "nbformat_minor": 5
}
