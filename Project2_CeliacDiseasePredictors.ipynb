{
 "cells": [
  {
   "cell_type": "code",
   "execution_count": 1,
   "id": "010376c7",
   "metadata": {},
   "outputs": [],
   "source": [
    "import pandas as pd\n",
    "celiac_df=pd.read_csv(\"/Users/admin/Downloads/celiac_disease_lab_data.csv\")\n",
    "import seaborn as sns\n",
    "sns.set_theme(style=\"whitegrid\")\n",
    "import matplotlib.pyplot as plt"
   ]
  },
  {
   "cell_type": "code",
   "execution_count": 2,
   "id": "bda94d44",
   "metadata": {},
   "outputs": [
    {
     "data": {
      "text/html": [
       "<div>\n",
       "<style scoped>\n",
       "    .dataframe tbody tr th:only-of-type {\n",
       "        vertical-align: middle;\n",
       "    }\n",
       "\n",
       "    .dataframe tbody tr th {\n",
       "        vertical-align: top;\n",
       "    }\n",
       "\n",
       "    .dataframe thead th {\n",
       "        text-align: right;\n",
       "    }\n",
       "</style>\n",
       "<table border=\"1\" class=\"dataframe\">\n",
       "  <thead>\n",
       "    <tr style=\"text-align: right;\">\n",
       "      <th></th>\n",
       "      <th>Age</th>\n",
       "      <th>IgA</th>\n",
       "      <th>IgG</th>\n",
       "      <th>IgM</th>\n",
       "    </tr>\n",
       "  </thead>\n",
       "  <tbody>\n",
       "    <tr>\n",
       "      <th>count</th>\n",
       "      <td>2206.000000</td>\n",
       "      <td>2206.000000</td>\n",
       "      <td>2206.000000</td>\n",
       "      <td>2206.000000</td>\n",
       "    </tr>\n",
       "    <tr>\n",
       "      <th>mean</th>\n",
       "      <td>12.768812</td>\n",
       "      <td>1.427384</td>\n",
       "      <td>10.052901</td>\n",
       "      <td>1.236963</td>\n",
       "    </tr>\n",
       "    <tr>\n",
       "      <th>std</th>\n",
       "      <td>7.434250</td>\n",
       "      <td>1.110042</td>\n",
       "      <td>2.047683</td>\n",
       "      <td>0.447216</td>\n",
       "    </tr>\n",
       "    <tr>\n",
       "      <th>min</th>\n",
       "      <td>1.000000</td>\n",
       "      <td>0.340000</td>\n",
       "      <td>5.000000</td>\n",
       "      <td>0.500000</td>\n",
       "    </tr>\n",
       "    <tr>\n",
       "      <th>25%</th>\n",
       "      <td>8.000000</td>\n",
       "      <td>1.000000</td>\n",
       "      <td>8.700000</td>\n",
       "      <td>0.980000</td>\n",
       "    </tr>\n",
       "    <tr>\n",
       "      <th>50%</th>\n",
       "      <td>10.000000</td>\n",
       "      <td>1.100000</td>\n",
       "      <td>10.000000</td>\n",
       "      <td>1.100000</td>\n",
       "    </tr>\n",
       "    <tr>\n",
       "      <th>75%</th>\n",
       "      <td>15.000000</td>\n",
       "      <td>1.800000</td>\n",
       "      <td>12.000000</td>\n",
       "      <td>1.500000</td>\n",
       "    </tr>\n",
       "    <tr>\n",
       "      <th>max</th>\n",
       "      <td>35.000000</td>\n",
       "      <td>9.000000</td>\n",
       "      <td>15.300000</td>\n",
       "      <td>2.700000</td>\n",
       "    </tr>\n",
       "  </tbody>\n",
       "</table>\n",
       "</div>"
      ],
      "text/plain": [
       "               Age          IgA          IgG          IgM\n",
       "count  2206.000000  2206.000000  2206.000000  2206.000000\n",
       "mean     12.768812     1.427384    10.052901     1.236963\n",
       "std       7.434250     1.110042     2.047683     0.447216\n",
       "min       1.000000     0.340000     5.000000     0.500000\n",
       "25%       8.000000     1.000000     8.700000     0.980000\n",
       "50%      10.000000     1.100000    10.000000     1.100000\n",
       "75%      15.000000     1.800000    12.000000     1.500000\n",
       "max      35.000000     9.000000    15.300000     2.700000"
      ]
     },
     "execution_count": 2,
     "metadata": {},
     "output_type": "execute_result"
    }
   ],
   "source": [
    "celiac_df.describe()"
   ]
  },
  {
   "cell_type": "code",
   "execution_count": 4,
   "id": "d7913c43",
   "metadata": {},
   "outputs": [
    {
     "name": "stdout",
     "output_type": "stream",
     "text": [
      "Statistics for 'yes' diagnosis:\n",
      "               Age          IgA          IgG          IgM\n",
      "count  1843.000000  1843.000000  1843.000000  1843.000000\n",
      "mean     13.234943     1.305708    10.157027     1.231812\n",
      "std       7.856934     0.546986     1.982584     0.467183\n",
      "min       1.000000     0.340000     5.000000     0.500000\n",
      "25%       8.000000     1.000000     8.700000     0.910000\n",
      "50%      10.000000     1.100000    10.000000     1.100000\n",
      "75%      16.000000     1.800000    12.000000     1.500000\n",
      "max      35.000000     2.600000    15.300000     2.700000\n",
      "\n",
      "Statistics for 'no' diagnosis:\n",
      "              Age         IgA         IgG         IgM\n",
      "count  363.000000  363.000000  363.000000  363.000000\n",
      "mean    10.402204    2.045152    9.524242    1.263113\n",
      "std      3.976199    2.350532    2.281263    0.326851\n",
      "min      3.000000    0.340000    5.000000    0.600000\n",
      "25%      8.000000    1.000000    8.000000    1.000000\n",
      "50%      9.000000    1.300000    9.400000    1.100000\n",
      "75%     12.000000    1.900000   12.000000    1.600000\n",
      "max     32.000000    9.000000   13.100000    2.100000\n"
     ]
    }
   ],
   "source": [
    "# Filter the DataFrame for \"yes\" diagnosis\n",
    "yes_diagnosis_df = celiac_df[celiac_df['Disease_Diagnose'] == 'yes']\n",
    "\n",
    "# Generate descriptive statistics for \"yes\" diagnosis\n",
    "yes_diagnosis_stats = yes_diagnosis_df.describe()\n",
    "\n",
    "# Filter the DataFrame for \"no\" diagnosis\n",
    "no_diagnosis_df = celiac_df[celiac_df['Disease_Diagnose'] == 'no']\n",
    "\n",
    "# Generate descriptive statistics for \"no\" diagnosis\n",
    "no_diagnosis_stats = no_diagnosis_df.describe()\n",
    "\n",
    "# Print the statistics\n",
    "print(\"Statistics for 'yes' diagnosis:\")\n",
    "print(yes_diagnosis_stats)\n",
    "\n",
    "print(\"\\nStatistics for 'no' diagnosis:\")\n",
    "print(no_diagnosis_stats)"
   ]
  },
  {
   "cell_type": "code",
   "execution_count": null,
   "id": "bfcf4b5e",
   "metadata": {},
   "outputs": [],
   "source": []
  }
 ],
 "metadata": {
  "kernelspec": {
   "display_name": "Python 3 (ipykernel)",
   "language": "python",
   "name": "python3"
  },
  "language_info": {
   "codemirror_mode": {
    "name": "ipython",
    "version": 3
   },
   "file_extension": ".py",
   "mimetype": "text/x-python",
   "name": "python",
   "nbconvert_exporter": "python",
   "pygments_lexer": "ipython3",
   "version": "3.11.4"
  }
 },
 "nbformat": 4,
 "nbformat_minor": 5
}
